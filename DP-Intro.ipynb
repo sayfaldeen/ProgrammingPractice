{
 "cells": [
  {
   "cell_type": "markdown",
   "metadata": {},
   "source": [
    "- Dynamic programming is mainly an optimization over recursion\n",
    "    - By breaking up the problem into sub-problems and storing the results of the sub-problems, you can save yourself time re-running calculations\n",
    "    - Example: 6+5+3+2+1+3+6+5\n",
    "        - We see 6+5 twice, so storing it would save us time re-calculating it\n",
    "- <b>Dynamic programming trades memory efficiency for increased speed </b>"
   ]
  },
  {
   "cell_type": "markdown",
   "metadata": {},
   "source": [
    "# Recursion vs DP"
   ]
  },
  {
   "cell_type": "markdown",
   "metadata": {},
   "source": [
    "- We will use the Fibonacci sequence to demonstrate the difference in efficiency\n",
    "- Fibonacci sequence is that n = the sum of the two previous sequences"
   ]
  },
  {
   "cell_type": "code",
   "execution_count": 1,
   "metadata": {},
   "outputs": [],
   "source": [
    "import time\n",
    "import matplotlib.pyplot as plt"
   ]
  },
  {
   "cell_type": "code",
   "execution_count": 14,
   "metadata": {},
   "outputs": [],
   "source": [
    "calculated = {}\n",
    "def fib(n):\n",
    "    t0 = time.time()\n",
    "    \n",
    "    if n == 0: # base case 1\n",
    "        r = 0\n",
    "        return [time.time() - t0, r] \n",
    "    if n == 1: # base case 2\n",
    "        r =  1\n",
    "        return [time.time() - t0, r]\n",
    "    elif n in calculated:\n",
    "        r = calculated[n]\n",
    "    else: # recursive step\n",
    "        calculated[n] = Fib(n-1) + Fib(n-2)\n",
    "        r = calculated[n]\n",
    "        \n",
    "    return [time.time() - t0,r]"
   ]
  },
  {
   "cell_type": "code",
   "execution_count": 15,
   "metadata": {},
   "outputs": [],
   "source": [
    "def Fib(n):\n",
    "    \"\"\"\n",
    "    Recursive Fibonacci solution\n",
    "    \"\"\"\n",
    "    t0 = time.time()\n",
    "    if n < 2:\n",
    "        return n\n",
    "    else:\n",
    "        return Fib(n-1) + Fib(n-2)"
   ]
  },
  {
   "cell_type": "code",
   "execution_count": 16,
   "metadata": {},
   "outputs": [],
   "source": [
    "def RecFib(n):\n",
    "    \"\"\"\n",
    "    Recursive Fibonacci solution\n",
    "    \"\"\"\n",
    "    t0 = time.time()\n",
    "    if n < 2:\n",
    "        r = n\n",
    "    else:\n",
    "        r = Fib(n-1) + Fib(n-2)\n",
    "        \n",
    "    return [time.time() - t0,r]"
   ]
  },
  {
   "cell_type": "code",
   "execution_count": 17,
   "metadata": {},
   "outputs": [],
   "source": [
    "dp_calculated = {0:0,\n",
    "             1:1,\n",
    "             2:1}\n",
    "\n",
    "def DPFib(n):\n",
    "    \"\"\"\n",
    "    Dynamic programming solution for finding Fibonacci numbers using memoization\n",
    "    \"\"\"\n",
    "    \n",
    "    t0 = time.time()\n",
    "    # Store the values\n",
    "    \n",
    "    if n in dp_calculated.keys():\n",
    "        r = dp_calculated[n]\n",
    "        return (time.time() - t0,r)\n",
    "    \n",
    "    elif n-1 in dp_calculated.keys() and n-2 in dp_calculated.keys():\n",
    "        r = dp_calculated[n-1] + dp_calculated[n-2]\n",
    "    \n",
    "    elif n-1 in dp_calculated.keys():\n",
    "        dp_calculated[n-2] = Fib(n-2)\n",
    "    elif n-2 in dp_calculated.keys():\n",
    "        dp_calculated[n-1] = Fib(n-1)\n",
    "        \n",
    "    else:\n",
    "        dp_calculated[n-1] = Fib(n-1)\n",
    "        dp_calculated[n-2] = Fib(n-2)\n",
    "        \n",
    "    dp_calculated[n] = dp_calculated[n-1] + dp_calculated[n-2]\n",
    "    r = dp_calculated[n]\n",
    "    return [time.time() - t0,r]"
   ]
  },
  {
   "cell_type": "code",
   "execution_count": 18,
   "metadata": {},
   "outputs": [
    {
     "name": "stdout",
     "output_type": "stream",
     "text": [
      "CPU times: user 1.46 s, sys: 3.04 ms, total: 1.46 s\n",
      "Wall time: 1.46 s\n"
     ]
    }
   ],
   "source": [
    "%%time\n",
    "RecTimes = dict([(n,RecFib(n)[0]) for n in range(30)])"
   ]
  },
  {
   "cell_type": "code",
   "execution_count": 19,
   "metadata": {},
   "outputs": [
    {
     "name": "stdout",
     "output_type": "stream",
     "text": [
      "CPU times: user 92 µs, sys: 8 µs, total: 100 µs\n",
      "Wall time: 105 µs\n"
     ]
    }
   ],
   "source": [
    "%%time\n",
    "DPTimes = dict([(n,DPFib(n)[0]) for n in range(30)])\n",
    "\n",
    "# My solution works better because it saves time on computing sub-problems when result is unknown\n",
    "    # This is probably going to be coming up as the learning progresses though\n",
    "    \n",
    "# Turns out this is just how memoization should be properly implemented; example I had originally read\n",
    "    # was just cacheing results but not the necessary sub-problem results"
   ]
  },
  {
   "cell_type": "code",
   "execution_count": 20,
   "metadata": {},
   "outputs": [
    {
     "name": "stdout",
     "output_type": "stream",
     "text": [
      "CPU times: user 1.32 s, sys: 3.63 ms, total: 1.32 s\n",
      "Wall time: 1.32 s\n"
     ]
    }
   ],
   "source": [
    "%%time\n",
    "Times = dict([(n,fib(n)[0]) for n in range(30)])"
   ]
  },
  {
   "cell_type": "code",
   "execution_count": 21,
   "metadata": {},
   "outputs": [
    {
     "data": {
      "text/plain": [
       "<matplotlib.legend.Legend at 0x7fc231df0880>"
      ]
     },
     "execution_count": 21,
     "metadata": {},
     "output_type": "execute_result"
    },
    {
     "data": {
      "image/png": "[encoded data removed]",
      "text/plain": [
       "<Figure size 432x288 with 1 Axes>"
      ]
     },
     "metadata": {
      "needs_background": "light"
     },
     "output_type": "display_data"
    }
   ],
   "source": [
    "sns.lineplot(x=RecTimes.keys(), y=RecTimes.values(),\n",
    "            label=\"Recursive\")\n",
    "sns.lineplot(x=Times.keys(), y=Times.values(),\n",
    "            label=\"Example-DP-Memo\")\n",
    "sns.lineplot(x=DPTimes.keys(), y=DPTimes.values(),\n",
    "            label=\"Sayf-DP-Memo\")\n",
    "\n",
    "plt.legend()"
   ]
  },
  {
   "cell_type": "code",
   "execution_count": 24,
   "metadata": {},
   "outputs": [
    {
     "data": {
      "text/plain": [
       "True"
      ]
     },
     "execution_count": 24,
     "metadata": {},
     "output_type": "execute_result"
    }
   ],
   "source": [
    "dp_res = [DPFib(n) for n in range(30)]\n",
    "dpe_res = [fib(n) for n in range(30)]\n",
    "rec_res = [RecFib(n) for n in range(30)]\n",
    "\n",
    "[x[1] for x in dpe_res] == [x[1] for x in dp_res] == [x[1] for x in rec_res]\n",
    "\n",
    "# Results are all exactly the same so the performance is not a bug"
   ]
  },
  {
   "cell_type": "markdown",
   "metadata": {},
   "source": [
    "## Tabulation"
   ]
  },
  {
   "cell_type": "markdown",
   "metadata": {},
   "source": [
    "- A bottom-up programming approach\n",
    "    - Start at the smallest possible sub-problem (base case) and progress to the main problem\n",
    "- Tabulation is the process of storing the results of the sub-problems as you progress\n",
    "    - We solve and store every sub-problem between the start and end problems\n",
    "    - No prioritization of which sub-problems to solve; not the most efficient\n",
    "- This is best accomplished using arrays or lists since the solutions are sequential"
   ]
  },
  {
   "cell_type": "markdown",
   "metadata": {},
   "source": [
    "## Memoization"
   ]
  },
  {
   "cell_type": "markdown",
   "metadata": {},
   "source": [
    "- A top-down approach to solving sub-problems\n",
    "- Results need to be stored in a non-sequential order so dictionaries are usually the way to go"
   ]
  },
  {
   "cell_type": "markdown",
   "metadata": {},
   "source": [
    "# Actual code\n",
    "- Code without the pieces to compare times for the calculation of each iteration\n",
    "- Below I also perform one last time comparison between the two functions without the time-calculation pieces"
   ]
  },
  {
   "cell_type": "code",
   "execution_count": 33,
   "metadata": {},
   "outputs": [],
   "source": [
    "calculated = {}\n",
    "def DPF0(n):\n",
    "    \"\"\"\n",
    "    Example DP Fib from online resource; not as efficient\n",
    "    https://www.educative.io/blog/python-dynamic-programming-tutorial\n",
    "    \"\"\"\n",
    "    \n",
    "    if n == 0: # base case 1\n",
    "        return 0\n",
    "    if n == 1: # base case 2\n",
    "        return  1\n",
    "    elif n in calculated:\n",
    "        return calculated[n]\n",
    "    else: # recursive step\n",
    "        calculated[n] = Fib(n-1) + Fib(n-2)\n",
    "        return calculated[n]"
   ]
  },
  {
   "cell_type": "code",
   "execution_count": 37,
   "metadata": {},
   "outputs": [],
   "source": [
    "# Create the memoization dict\n",
    "memo = {0:0, 1:1, 2:1}\n",
    "\n",
    "def DPFib(n):\n",
    "    \"\"\"\n",
    "    Dynamic programming solution for finding Fibonacci numbers using memoization\n",
    "    \"\"\"\n",
    "    \n",
    "    if n in memo.keys(): # If result already present\n",
    "        return memo[n]\n",
    "    \n",
    "    elif n-1 in memo.keys() and n-2 in memo.keys(): # if previous results present\n",
    "        memo[n] = memo[n-1] + memo[n-2]\n",
    "        return memo[n]\n",
    "\n",
    "    # If at least one of necessary previous results is present\n",
    "    #elif n-1 in memo.keys(): # You cannot have n-1 present and n-2 not present; n-2 is needed for n-1\n",
    "        #memo[n-2] = Fib(n-2)\n",
    "    elif n-2 in memo.keys():\n",
    "        memo[n-1] = DPFib(n-1)\n",
    "        \n",
    "    else:\n",
    "        memo[n-1] = DPFib(n-1)\n",
    "        memo[n-2] = DPFib(n-2)\n",
    "        \n",
    "    memo[n] = memo[n-1] + memo[n-2]\n",
    "    return memo[n]\n"
   ]
  },
  {
   "cell_type": "code",
   "execution_count": 35,
   "metadata": {},
   "outputs": [
    {
     "name": "stdout",
     "output_type": "stream",
     "text": [
      "[0, 1, 1, 2, 3, 5, 8, 13, 21, 34, 55, 89, 144, 233, 377, 610, 987, 1597, 2584, 4181, 6765, 10946, 17711, 28657, 46368, 75025, 121393, 196418, 317811, 514229]\n",
      "\n",
      "CPU times: user 1.43 s, sys: 36 µs, total: 1.43 s\n",
      "Wall time: 1.43 s\n"
     ]
    }
   ],
   "source": [
    "%%time\n",
    "print([DPF0(x) for x in range(0,30)])\n",
    "print()"
   ]
  },
  {
   "cell_type": "code",
   "execution_count": 38,
   "metadata": {},
   "outputs": [
    {
     "name": "stdout",
     "output_type": "stream",
     "text": [
      "[0, 1, 1, 2, 3, 5, 8, 13, 21, 34, 55, 89, 144, 233, 377, 610, 987, 1597, 2584, 4181, 6765, 10946, 17711, 28657, 46368, 75025, 121393, 196418, 317811, 514229]\n",
      "\n",
      "CPU times: user 806 µs, sys: 0 ns, total: 806 µs\n",
      "Wall time: 721 µs\n"
     ]
    }
   ],
   "source": [
    "%%time\n",
    "print([DPFib(x) for x in range(0,30)])\n",
    "print()"
   ]
  },
  {
   "cell_type": "code",
   "execution_count": null,
   "metadata": {},
   "outputs": [],
   "source": []
  }
 ],
 "metadata": {
  "kernelspec": {
   "display_name": "Python 3 (ipykernel)",
   "language": "python",
   "name": "python3"
  },
  "language_info": {
   "codemirror_mode": {
    "name": "ipython",
    "version": 3
   },
   "file_extension": ".py",
   "mimetype": "text/x-python",
   "name": "python",
   "nbconvert_exporter": "python",
   "pygments_lexer": "ipython3",
   "version": "3.8.10"
  }
 },
 "nbformat": 4,
 "nbformat_minor": 4
}
