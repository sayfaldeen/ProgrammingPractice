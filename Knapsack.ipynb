{
 "cells": [
  {
   "cell_type": "markdown",
   "metadata": {},
   "source": [
    "# Notebook for implementing a DP solution for the `0-1 knapsack problem`"
   ]
  },
  {
   "cell_type": "markdown",
   "metadata": {},
   "source": [
    "## Intro"
   ]
  },
  {
   "cell_type": "markdown",
   "metadata": {},
   "source": [
    "- The `knapsack problem` is based on the idea of fitting objects into a knapsack (i.e. bag)\n",
    "- The idea is to get the most value in the bag, but keep it under the weight the bag can carry\n",
    "    - This means there are 3 variables to consider\n",
    "        1. Bag weight capacity ($W$)\n",
    "        2. Item weight ($w$)\n",
    "        3. Item value ($v$)\n",
    "    - There are also some constraints to consider:\n",
    "        1. Items cannot be broken\n",
    "        2. Sum of selected item weights must be =< $B_w$\n",
    "- This problem can ends up having repetitive sub-problems (as we will see later on) which makes it a possible candidate for DP (spoiler: it definitely is)\n"
   ]
  },
  {
   "cell_type": "markdown",
   "metadata": {},
   "source": [
    "# Code solutions"
   ]
  },
  {
   "cell_type": "code",
   "execution_count": 1,
   "metadata": {},
   "outputs": [],
   "source": [
    "import time\n",
    "import tracemalloc\n",
    "\n",
    "def LogPerf(func):\n",
    "    \"\"\"\n",
    "    Decorator function to log the time it takes to complete a function\n",
    "    \"\"\"\n",
    "    \n",
    "    def wrapper(*args,**kwargs):\n",
    "        # Store the starting time\n",
    "        ts = time.time()\n",
    "\n",
    "        # Run the function\n",
    "        res = func(*args, **kwargs)\n",
    "        \n",
    "        # Check the memory usage\n",
    "        current, peak = tracemalloc.get_traced_memory()\n",
    "\n",
    "        # Print out the time\n",
    "        print(\" \")\n",
    "        print(f\"Function: {func.__name__}\")\n",
    "        # print(\"Positional args:\", *args)\n",
    "        # print(\"Keyword args:   \", **kwargs)\n",
    "        print(\"-\"*38)\n",
    "        \n",
    "        print(f\"Time elapsed:\\t\\t{time.time() - ts: 0.4} s\")\n",
    "        print(f\"Memory usage:\\t\\t {current/10*6:0.4} Mbs\")\n",
    "        print(f\"Peak Memory usage:\\t {peak/10*6:0.4} Mbs\")\n",
    "        print(\"+\"*38)\n",
    "        \n",
    "        return res\n",
    "    \n",
    "    return wrapper"
   ]
  },
  {
   "cell_type": "markdown",
   "metadata": {},
   "source": [
    "## Recursive solution  "
   ]
  },
  {
   "cell_type": "code",
   "execution_count": 2,
   "metadata": {},
   "outputs": [],
   "source": [
    "@LogPerf\n",
    "def TabKnap(weights, values, W):\n",
    "    \"\"\"\n",
    "    Iterative DP implementation of 0-1 Knapsack algorithm using tabulation \n",
    "    \n",
    "    NOTE: Much of this code is from external sources with some edits by me to help me better understand the flow\n",
    "        Credit to GeeksforGeeks, askpython, and Holczer Balazs\n",
    "    \"\"\"\n",
    "    \n",
    "    max_len = len(weights)\n",
    "    \n",
    "    # Sanity check\n",
    "    if max_len != len(values) or max_len < 1:\n",
    "        return None\n",
    "    \n",
    "    # Make the table; rows = n_weights / cols = sum_weights\n",
    "    table = [[0 for x in range(W+1)] for i in range(max_len)]\n",
    "    \n",
    "    \"\"\"\n",
    "    I think that we are going to want iterate between all the possible weights and see\n",
    "        the max value; we don't iterate through the items; but iterate through the \n",
    "        weights instead\n",
    "    \"\"\"\n",
    "    \n",
    "    for i in range(max_len):\n",
    "        # Iterate through each item\n",
    "        \n",
    "        for w in range(W+1):\n",
    "            # Then through each weight possibility\n",
    "            \n",
    "            if weights[i] <= w: # If weight of item i, can fit in at this point\n",
    "                # Check the two cases; shoule we add it in, or not\n",
    "                \n",
    "                #case1 = do not add item\n",
    "                case1 = table[i-1][w] # this accesses the table at a specific weight and\n",
    "                                        # index; the index is the number of items \n",
    "                                        # included\n",
    "                        \n",
    "                # case2 = add item\n",
    "                case2 = values[i] + table[i-1][w-weights[i]]\n",
    "                \n",
    "                \"\"\"\n",
    "                Here, if we want to add the value of our current item to the position\n",
    "                    in the table where we have two things:\n",
    "                        1) index -1\n",
    "                        2) Weight - current weight\n",
    "                        \n",
    "                The position indicated by these two parameters is the previous maximum\n",
    "                    not including this weight (since table[i][w] = this position.\n",
    "                \n",
    "                NOTE: We are iterating through possible weights here, not adding up \n",
    "                    weights, that's been the part I keep forgetting to keep in mind\n",
    "                \"\"\"\n",
    "                \n",
    "                # Add in the case with the higher value\n",
    "                table[i][w] = max(case1,case2)\n",
    "                \n",
    "            else: # The weight of the item is higher than the capacity\n",
    "                table[i][w] = table[i-1][w]\n",
    "                \n",
    "                \"\"\"\n",
    "                Here we say that for the new index, the value is the same as \n",
    "                    index-1 and the weight stays the same since we have not added in a\n",
    "                    new item\n",
    "                \"\"\"\n",
    "                \n",
    "    return table[max_len-1][W]"
   ]
  },
  {
   "cell_type": "code",
   "execution_count": 3,
   "metadata": {},
   "outputs": [],
   "source": [
    "@LogPerf\n",
    "def RecKnap(weights, values, W, out=False):\n",
    "    \"\"\"\n",
    "    Recursive implementation of the Knapsack problem\n",
    "    \"\"\"\n",
    "    \n",
    "    # Sanity check\n",
    "    n = len(weights)\n",
    "    \n",
    "    if n == 0:\n",
    "        return None\n",
    "    if W == 0:\n",
    "        return None\n",
    "    if n != len(values):\n",
    "        return None\n",
    "    \n",
    "    # Make the main function\n",
    "    def main(W, n):\n",
    "        \"\"\"\n",
    "        Main function to recruse through\n",
    "        \"\"\"\n",
    "        \n",
    "        # Define base-case(s)\n",
    "        if n == 0:\n",
    "            return 0\n",
    "        if W == 0:\n",
    "            return 0\n",
    "        \n",
    "        # Check if the weight of the current item is greater than remaining weight (W)\n",
    "        if weights[n-1] > W: # return the value from previous iteration\n",
    "            return main(W, n-1)\n",
    "        else: # Check if we should add the value or not\n",
    "            \n",
    "            if out:\n",
    "                case1 = values[n-1] + main(W-weights[n-1], n-1)\n",
    "                case2 = main(W, n-1)\n",
    "                print(f\"{n}) C1: {case1} -- C2: {case2}\")\n",
    "                \n",
    "                return max(case1,case2)\n",
    "            \n",
    "            return max(values[n-1] + main(W-weights[n-1], n-1), # case1 (add item)\n",
    "                       main(W, n-1)) # case 2 (do not add)\n",
    "            \n",
    "            \n",
    "    \n",
    "    return main(W,n)"
   ]
  },
  {
   "cell_type": "code",
   "execution_count": 4,
   "metadata": {
    "tags": []
   },
   "outputs": [
    {
     "name": "stdout",
     "output_type": "stream",
     "text": [
      "1) C1: 20 -- C2: 0\n",
      "1) C1: 20 -- C2: 0\n",
      "1) C1: 20 -- C2: 0\n",
      "2) C1: 42 -- C2: 20\n",
      "3) C1: 50 -- C2: 42\n",
      "1) C1: 20 -- C2: 0\n",
      "2) C1: 22 -- C2: 20\n",
      "1) C1: 20 -- C2: 0\n",
      "1) C1: 20 -- C2: 0\n",
      "2) C1: 42 -- C2: 20\n",
      "3) C1: 52 -- C2: 42\n",
      "4) C1: 54 -- C2: 52\n",
      "5) C1: 40 -- C2: 54\n",
      " \n",
      "Function: RecKnap\n",
      "--------------------------------------\n",
      "Time elapsed:\t\t 0.0002179 s\n",
      "Memory usage:\t\t 0.0 Mbs\n",
      "Peak Memory usage:\t 0.0 Mbs\n",
      "++++++++++++++++++++++++++++++++++++++\n"
     ]
    },
    {
     "data": {
      "text/plain": [
       "54"
      ]
     },
     "execution_count": 4,
     "metadata": {},
     "output_type": "execute_result"
    }
   ],
   "source": [
    "weights = [10,12,14,6,30]\n",
    "values = [20, 22, 30, 4, 40]\n",
    "W = 30\n",
    "\n",
    "RecKnap(weights,values,W, out=True)"
   ]
  },
  {
   "cell_type": "markdown",
   "metadata": {},
   "source": [
    "## Dynamic programming approach"
   ]
  },
  {
   "cell_type": "markdown",
   "metadata": {},
   "source": [
    "- Now that we see how the recursive approach works AND how the subproblem structure looks, let's implement a DP approach built on the recursive approach\n",
    "    - For any given n, the optimal solution is the same i.e. at n=1 the optimal solution is always 20 above\n",
    "    - This is because n=1 means we are only considering the the first value, n=2 means we are considering the first 2 values, etc...\n",
    "- Given the repetitive sub-problem structure, DP should work great\n",
    "    - We will use both tabulation (faster but more complex) and memoization (slower but much simpler to implement) with our DP approaches"
   ]
  },
  {
   "cell_type": "code",
   "execution_count": 5,
   "metadata": {},
   "outputs": [],
   "source": [
    "@LogPerf\n",
    "def MemKnap(weights, values, W):\n",
    "    \"\"\"\n",
    "    Recursive implementation of the Knapsack algorithm using memoization\n",
    "    \"\"\"\n",
    "    \n",
    "    # Sanity check\n",
    "    n = len(weights)\n",
    "    \n",
    "    if n == 0:\n",
    "        return None\n",
    "    if W == 0:\n",
    "        return None\n",
    "    if n != len(values):\n",
    "        return None\n",
    "    \n",
    "    # Make the memo\n",
    "    memo = {} # {(W,i):value}\n",
    "    \n",
    "    # Make the main function\n",
    "    def main(W, n):\n",
    "        \"\"\"\n",
    "        Main function to recruse through\n",
    "        \"\"\"\n",
    "        \n",
    "        # Define base-case(s)\n",
    "        if n == 0:\n",
    "            return 0\n",
    "        if W == 0:\n",
    "            return 0\n",
    "        \n",
    "        \n",
    "        # Check the memo for the values\n",
    "        if (W,n-1) in memo:\n",
    "                prev = memo[(W,n-1)]\n",
    "        else:\n",
    "            prev = main(W, n-1)\n",
    "            \n",
    "        # Check if the weight of the current item is greater than remaining weight (W)\n",
    "        if weights[n-1] > W: # return the value from previous iteration\n",
    "            return prev\n",
    "        else: # Check if we should add the value or not\n",
    "            \n",
    "            \n",
    "                \n",
    "            memo[(W, n)] = max(values[n-1] + main(W-weights[n-1], n-1), # case1 (add item)\n",
    "                       prev) # case 2 (do not add)\n",
    "            return memo[(W, n)]\n",
    "            \n",
    "                \n",
    "    return main(W,n)"
   ]
  },
  {
   "cell_type": "code",
   "execution_count": 6,
   "metadata": {
    "tags": []
   },
   "outputs": [
    {
     "name": "stdout",
     "output_type": "stream",
     "text": [
      " \n",
      "Function: RecKnap\n",
      "--------------------------------------\n",
      "Time elapsed:\t\t 0.0003641 s\n",
      "Memory usage:\t\t 0.0 Mbs\n",
      "Peak Memory usage:\t 0.0 Mbs\n",
      "++++++++++++++++++++++++++++++++++++++\n"
     ]
    },
    {
     "data": {
      "text/plain": [
       "54"
      ]
     },
     "execution_count": 6,
     "metadata": {},
     "output_type": "execute_result"
    }
   ],
   "source": [
    "RecKnap(weights,values,W)"
   ]
  },
  {
   "cell_type": "code",
   "execution_count": 8,
   "metadata": {},
   "outputs": [
    {
     "name": "stdout",
     "output_type": "stream",
     "text": [
      " \n",
      "Function: MemKnap\n",
      "--------------------------------------\n",
      "Time elapsed:\t\t 0.0002367 s\n",
      "Memory usage:\t\t 0.0 Mbs\n",
      "Peak Memory usage:\t 0.0 Mbs\n",
      "++++++++++++++++++++++++++++++++++++++\n"
     ]
    },
    {
     "data": {
      "text/plain": [
       "54"
      ]
     },
     "execution_count": 8,
     "metadata": {},
     "output_type": "execute_result"
    }
   ],
   "source": [
    "MemKnap(weights,values,W)"
   ]
  },
  {
   "cell_type": "code",
   "execution_count": 9,
   "metadata": {},
   "outputs": [],
   "source": [
    "from random import randint"
   ]
  },
  {
   "cell_type": "code",
   "execution_count": 14,
   "metadata": {},
   "outputs": [],
   "source": [
    "# Randomly generate some data and test it\n",
    "    # We will use the TabKnap function as our gold-standard since we know it works (it's from an external source)\n",
    "weights = [randint(0,100) for x in range(30)]\n",
    "values = [randint(0,100) for x in range(30)]\n",
    "\n",
    "W = 250"
   ]
  },
  {
   "cell_type": "code",
   "execution_count": 15,
   "metadata": {},
   "outputs": [
    {
     "name": "stdout",
     "output_type": "stream",
     "text": [
      " \n",
      "Function: RecKnap\n",
      "--------------------------------------\n",
      "Time elapsed:\t\t 1.317 s\n",
      "Memory usage:\t\t 0.0 Mbs\n",
      "Peak Memory usage:\t 0.0 Mbs\n",
      "++++++++++++++++++++++++++++++++++++++\n",
      "798\n",
      " \n",
      "Function: TabKnap\n",
      "--------------------------------------\n",
      "Time elapsed:\t\t 0.002093 s\n",
      "Memory usage:\t\t 0.0 Mbs\n",
      "Peak Memory usage:\t 0.0 Mbs\n",
      "++++++++++++++++++++++++++++++++++++++\n",
      "798\n",
      " \n",
      "Function: MemKnap\n",
      "--------------------------------------\n",
      "Time elapsed:\t\t 0.006211 s\n",
      "Memory usage:\t\t 0.0 Mbs\n",
      "Peak Memory usage:\t 0.0 Mbs\n",
      "++++++++++++++++++++++++++++++++++++++\n",
      "798\n"
     ]
    }
   ],
   "source": [
    "print(RecKnap(weights,values,W))\n",
    "print(TabKnap(weights, values, W))\n",
    "print(MemKnap(weights,values,W))"
   ]
  },
  {
   "cell_type": "markdown",
   "metadata": {},
   "source": [
    "# Summary"
   ]
  },
  {
   "cell_type": "markdown",
   "metadata": {},
   "source": [
    "- The recursive implementation was never going to be the fastest here, but I always like to start from there with complicated algorithms\n",
    "    - I find that it is much easier to follow the logic-flow using a recursive implementation\n",
    "- As expected, the tabulation approach was faster, but it definitely felt more complicated to me as I was implementing it"
   ]
  },
  {
   "cell_type": "code",
   "execution_count": 136,
   "metadata": {},
   "outputs": [
    {
     "name": "stdout",
     "output_type": "stream",
     "text": [
      "478 ns ± 28.2 ns per loop (mean ± std. dev. of 7 runs, 1000000 loops each)\n"
     ]
    }
   ],
   "source": [
    "%%timeit\n",
    "patts = [\"cat\", \"dog\", \"xxx\", \"test\"]\n",
    "s = \"xxxxxcatdangtest\"\n",
    "\n",
    "for patt in patts:\n",
    "    if patt not in s:\n",
    "        patts.remove(patt)"
   ]
  },
  {
   "cell_type": "code",
   "execution_count": 137,
   "metadata": {},
   "outputs": [
    {
     "name": "stdout",
     "output_type": "stream",
     "text": [
      "750 ns ± 27.7 ns per loop (mean ± std. dev. of 7 runs, 1000000 loops each)\n"
     ]
    }
   ],
   "source": [
    "%%timeit\n",
    "patts = [\"cat\", \"dog\", \"xxx\", \"test\"]\n",
    "s = \"xxxxxcatdangtest\"\n",
    "\n",
    "[patts.remove(patt) for patt in patts \\\n",
    " if patt not in s]"
   ]
  },
  {
   "cell_type": "code",
   "execution_count": null,
   "metadata": {},
   "outputs": [],
   "source": []
  }
 ],
 "metadata": {
  "kernelspec": {
   "display_name": "Python 3 (ipykernel)",
   "language": "python",
   "name": "python3"
  },
  "language_info": {
   "codemirror_mode": {
    "name": "ipython",
    "version": 3
   },
   "file_extension": ".py",
   "mimetype": "text/x-python",
   "name": "python",
   "nbconvert_exporter": "python",
   "pygments_lexer": "ipython3",
   "version": "3.8.10"
  }
 },
 "nbformat": 4,
 "nbformat_minor": 4
}
